{
 "cells": [
  {
   "cell_type": "code",
   "execution_count": 1,
   "id": "af04c04c",
   "metadata": {},
   "outputs": [],
   "source": [
    "import numpy as np\n",
    "import matplotlib.pyplot as plt"
   ]
  },
  {
   "cell_type": "code",
   "execution_count": null,
   "id": "443812c6",
   "metadata": {},
   "outputs": [],
   "source": [
    "value = std::sqrt(1.0 / M_PI) * std::exp(-v * v);"
   ]
  },
  {
   "cell_type": "code",
   "execution_count": 2,
   "id": "ef5dcdd1",
   "metadata": {},
   "outputs": [
    {
     "data": {
      "text/plain": [
       "0.7745966692414834"
      ]
     },
     "execution_count": 2,
     "metadata": {},
     "output_type": "execute_result"
    }
   ],
   "source": [
    "np.sqrt(3/5)"
   ]
  },
  {
   "cell_type": "code",
   "execution_count": 5,
   "id": "995eb78e",
   "metadata": {},
   "outputs": [
    {
     "data": {
      "text/plain": [
       "0.5773502691896258"
      ]
     },
     "execution_count": 5,
     "metadata": {},
     "output_type": "execute_result"
    }
   ],
   "source": [
    "1/np.sqrt(3)"
   ]
  },
  {
   "cell_type": "code",
   "execution_count": 3,
   "id": "079525a6",
   "metadata": {},
   "outputs": [
    {
     "data": {
      "text/plain": [
       "0.8888888888888888"
      ]
     },
     "execution_count": 3,
     "metadata": {},
     "output_type": "execute_result"
    }
   ],
   "source": [
    "8/9"
   ]
  },
  {
   "cell_type": "code",
   "execution_count": 4,
   "id": "71451a7a",
   "metadata": {},
   "outputs": [
    {
     "data": {
      "text/plain": [
       "0.4472135954999579"
      ]
     },
     "execution_count": 4,
     "metadata": {},
     "output_type": "execute_result"
    }
   ],
   "source": [
    "np.sqrt((0.81/4.05))"
   ]
  },
  {
   "cell_type": "code",
   "execution_count": 6,
   "id": "39dd9e7c",
   "metadata": {},
   "outputs": [
    {
     "data": {
      "text/plain": [
       "0.5839036056192232"
      ]
     },
     "execution_count": 6,
     "metadata": {},
     "output_type": "execute_result"
    }
   ],
   "source": [
    "np.sqrt(0.79/2.3171)"
   ]
  },
  {
   "cell_type": "code",
   "execution_count": 19,
   "id": "5748cfb0",
   "metadata": {},
   "outputs": [],
   "source": [
    "x = [2,3,4,5,10,20,30,35]\n",
    "y = [0.875584,1.44,2.8584,6.53774 ,1777.91,7.76612e+09,6.50544e+17,1.23979e+22]"
   ]
  },
  {
   "cell_type": "code",
   "execution_count": 20,
   "id": "00d30f66",
   "metadata": {},
   "outputs": [
    {
     "data": {
      "image/png": "[encoded data removed]",
      "text/plain": [
       "<Figure size 640x480 with 1 Axes>"
      ]
     },
     "metadata": {},
     "output_type": "display_data"
    }
   ],
   "source": [
    "plt.plot(x, y, marker='o')\n",
    "plt.yscale(\"log\")\n",
    "plt.xlabel(\"order\")\n",
    "plt.ylabel(\"det(V)\")\n",
    "plt.grid()"
   ]
  },
  {
   "cell_type": "code",
   "execution_count": 22,
   "id": "f9079293",
   "metadata": {},
   "outputs": [
    {
     "data": {
      "text/plain": [
       "-0.6547005383792515"
      ]
     },
     "execution_count": 22,
     "metadata": {},
     "output_type": "execute_result"
    }
   ],
   "source": [
    "0.5 - 2*np.sqrt(3)/3"
   ]
  },
  {
   "cell_type": "code",
   "execution_count": 23,
   "id": "d5f84767",
   "metadata": {},
   "outputs": [
    {
     "data": {
      "text/plain": [
       "2.7357159999999996"
      ]
     },
     "execution_count": 23,
     "metadata": {},
     "output_type": "execute_result"
    }
   ],
   "source": [
    "1.654*1.654"
   ]
  },
  {
   "cell_type": "code",
   "execution_count": 24,
   "id": "b8b676be",
   "metadata": {},
   "outputs": [
    {
     "data": {
      "text/plain": [
       "1.0828737999999998"
      ]
     },
     "execution_count": 24,
     "metadata": {},
     "output_type": "execute_result"
    }
   ],
   "source": [
    "1.654*0.6547"
   ]
  },
  {
   "cell_type": "code",
   "execution_count": 25,
   "id": "39bac193",
   "metadata": {},
   "outputs": [
    {
     "data": {
      "text/plain": [
       "0.4286320899999999"
      ]
     },
     "execution_count": 25,
     "metadata": {},
     "output_type": "execute_result"
    }
   ],
   "source": [
    "0.6547*0.6547"
   ]
  },
  {
   "cell_type": "code",
   "execution_count": 26,
   "id": "148ac62b",
   "metadata": {},
   "outputs": [
    {
     "data": {
      "text/plain": [
       "0.0978"
      ]
     },
     "execution_count": 26,
     "metadata": {},
     "output_type": "execute_result"
    }
   ],
   "source": [
    "0.0489*2"
   ]
  },
  {
   "cell_type": "code",
   "execution_count": 35,
   "id": "22f592f8",
   "metadata": {},
   "outputs": [
    {
     "data": {
      "text/plain": [
       "-0.41859999999999997"
      ]
     },
     "execution_count": 35,
     "metadata": {},
     "output_type": "execute_result"
    }
   ],
   "source": [
    "0.4286-0.8472"
   ]
  },
  {
   "cell_type": "code",
   "execution_count": 36,
   "id": "d56fbcfd",
   "metadata": {},
   "outputs": [
    {
     "data": {
      "text/plain": [
       "-0.2358"
      ]
     },
     "execution_count": 36,
     "metadata": {},
     "output_type": "execute_result"
    }
   ],
   "source": [
    "-1.083+0.8472"
   ]
  },
  {
   "cell_type": "code",
   "execution_count": 37,
   "id": "210d058e",
   "metadata": {},
   "outputs": [
    {
     "data": {
      "text/plain": [
       "-1.9302"
      ]
     },
     "execution_count": 37,
     "metadata": {},
     "output_type": "execute_result"
    }
   ],
   "source": [
    "-1.083-0.8472"
   ]
  },
  {
   "cell_type": "code",
   "execution_count": 38,
   "id": "8987606c",
   "metadata": {},
   "outputs": [
    {
     "data": {
      "text/plain": [
       "3.5829"
      ]
     },
     "execution_count": 38,
     "metadata": {},
     "output_type": "execute_result"
    }
   ],
   "source": [
    "2.7357+0.8472"
   ]
  },
  {
   "cell_type": "code",
   "execution_count": 31,
   "id": "e96fb962",
   "metadata": {},
   "outputs": [
    {
     "data": {
      "text/plain": [
       "1.8039399999999999"
      ]
     },
     "execution_count": 31,
     "metadata": {},
     "output_type": "execute_result"
    }
   ],
   "source": [
    "3*(0.0489+0.00108) +1.654"
   ]
  },
  {
   "cell_type": "code",
   "execution_count": 59,
   "id": "4ebedbe5",
   "metadata": {},
   "outputs": [],
   "source": [
    "A = np.array([\n",
    "    [1,(1.732-1)/2],[-(1.732+1)/2,1]\n",
    "])\n",
    "b = np.array([0.5 - np.sqrt(3)/2,  0.5 + np.sqrt(3)/2]) + np.array([3,3])"
   ]
  },
  {
   "cell_type": "code",
   "execution_count": 60,
   "id": "68d2e720",
   "metadata": {},
   "outputs": [],
   "source": [
    "x = np.linalg.solve(A.T, b)"
   ]
  },
  {
   "cell_type": "code",
   "execution_count": 61,
   "id": "0fccd003",
   "metadata": {},
   "outputs": [
    {
     "data": {
      "text/plain": [
       "array([5.73214501, 2.26806033])"
      ]
     },
     "execution_count": 61,
     "metadata": {},
     "output_type": "execute_result"
    }
   ],
   "source": [
    "x"
   ]
  },
  {
   "cell_type": "code",
   "execution_count": 62,
   "id": "0cef16f3",
   "metadata": {},
   "outputs": [
    {
     "name": "stdout",
     "output_type": "stream",
     "text": [
      "1.3678794411714423\n"
     ]
    }
   ],
   "source": [
    "x = 1\n",
    "print(np.exp(-x*x) + x*x)"
   ]
  },
  {
   "cell_type": "code",
   "execution_count": 1,
   "id": "a0ed129c",
   "metadata": {},
   "outputs": [],
   "source": [
    "def compute(c):\n",
    "    E = 6.76e10\n",
    "    nu = 0.17\n",
    "    alpha_iso = 2.6e-6\n",
    "    lambLame = E * nu / (1+nu) / (1-2*nu)\n",
    "    muLame = E / 2 / (1+nu)\n",
    "    return E/(1-2*nu) * alpha_iso * c / (2*lambLame+8*muLame)"
   ]
  },
  {
   "cell_type": "code",
   "execution_count": 3,
   "id": "096e0ff5",
   "metadata": {},
   "outputs": [],
   "source": [
    "const = compute(3.0)"
   ]
  },
  {
   "cell_type": "code",
   "execution_count": 4,
   "id": "add681a2",
   "metadata": {},
   "outputs": [],
   "source": [
    "def result(r):\n",
    "    return const * r * r "
   ]
  },
  {
   "cell_type": "code",
   "execution_count": 5,
   "id": "c17d0e9a",
   "metadata": {},
   "outputs": [],
   "source": [
    "import matplotlib.pyplot as plt\n",
    "import pandas as pd \n",
    "import numpy as np\n"
   ]
  },
  {
   "cell_type": "code",
   "execution_count": null,
   "id": "79f59599",
   "metadata": {},
   "outputs": [],
   "source": [
    "dat = pd.read_csv(\"comsoldat.txt\",  header=None)"
   ]
  }
 ],
 "metadata": {
  "kernelspec": {
   "display_name": "torch",
   "language": "python",
   "name": "python3"
  },
  "language_info": {
   "codemirror_mode": {
    "name": "ipython",
    "version": 3
   },
   "file_extension": ".py",
   "mimetype": "text/x-python",
   "name": "python",
   "nbconvert_exporter": "python",
   "pygments_lexer": "ipython3",
   "version": "3.11.3"
  }
 },
 "nbformat": 4,
 "nbformat_minor": 5
}
